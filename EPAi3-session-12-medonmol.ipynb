{
 "cells": [
  {
   "cell_type": "code",
   "execution_count": 3,
   "source": [
    "from math import sin, cos, pi\r\n",
    "\r\n",
    "\r\n",
    "class Polygon:\r\n",
    "    def __init__(self, n_edges, r):\r\n",
    "\r\n",
    "        self.edges = n_edges\r\n",
    "        self.radius = r\r\n",
    "        self.vertices = n_edges\r\n",
    "        self.init_parameters()\r\n",
    "\r\n",
    "    def init_parameters(self):\r\n",
    "        _ = self.edge_length\r\n",
    "        _ = self.interior_angle\r\n",
    "        _ = self.apothem\r\n",
    "        _ = self.area\r\n",
    "        _ = self.perimeter\r\n",
    "\r\n",
    "    @property\r\n",
    "    def edges(self):\r\n",
    "        return self._edges\r\n",
    "\r\n",
    "    @property\r\n",
    "    def radius(self):\r\n",
    "        return self._radius\r\n",
    "\r\n",
    "    @edges.setter\r\n",
    "    def edges(self, n_edges):\r\n",
    "        if not isinstance(n_edges, (int, float)):\r\n",
    "            raise ValueError\r\n",
    "        if n_edges < 3:\r\n",
    "            raise ValueError\r\n",
    "\r\n",
    "        self._edges = n_edges\r\n",
    "        self._vertices = n_edges\r\n",
    "        self._edge_length = None\r\n",
    "        self._interior_angle = None\r\n",
    "        self._apothem = None\r\n",
    "        self._area = None\r\n",
    "        self._perimeter = None\r\n",
    "\r\n",
    "    @property\r\n",
    "    def vertices(self):\r\n",
    "        return self._vertices\r\n",
    "\r\n",
    "    @vertices.setter\r\n",
    "    def vertices(self, vert):\r\n",
    "        if not isinstance(vert, (int, float)):\r\n",
    "            raise ValueError\r\n",
    "        if vert < 3:\r\n",
    "            raise ValueError\r\n",
    "\r\n",
    "        self._edges = vert\r\n",
    "        self._vertices = vert\r\n",
    "        self._edge_length = None\r\n",
    "        self._interior_angle = None\r\n",
    "        self._apothem = None\r\n",
    "        self._area = None\r\n",
    "        self._perimeter = None\r\n",
    "\r\n",
    "    @radius.setter\r\n",
    "    def radius(self, r):\r\n",
    "        if not isinstance(r, (int, float)):\r\n",
    "            raise ValueError\r\n",
    "        if r < 0:\r\n",
    "            raise ValueError\r\n",
    "        self._radius = r\r\n",
    "        self._edge_length = None\r\n",
    "        self._interior_angle = None\r\n",
    "        self._apothem = None\r\n",
    "        self._area = None\r\n",
    "        self._perimeter = None\r\n",
    "\r\n",
    "    @property\r\n",
    "    def edge_length(self):\r\n",
    "        if self._edge_length is None:\r\n",
    "            self._edge_length = 2 * self._radius * sin(pi / self._edges)\r\n",
    "\r\n",
    "        return self._edge_length\r\n",
    "\r\n",
    "    @property\r\n",
    "    def interior_angle(self):\r\n",
    "        if self._interior_angle is None:\r\n",
    "            self._interior_angle = (self._edges - 2) * 180 / self._edges\r\n",
    "        return self._interior_angle\r\n",
    "\r\n",
    "    @property\r\n",
    "    def apothem(self):\r\n",
    "        if self._apothem is None:\r\n",
    "            self._apothem = self._radius * cos(pi / self._edges)\r\n",
    "        return self._apothem\r\n",
    "\r\n",
    "    @property\r\n",
    "    def area(self):\r\n",
    "        if self._apothem is None:\r\n",
    "            _ = self.apothem\r\n",
    "        if self._edge_length is None:\r\n",
    "            _ = self.edge_length\r\n",
    "        if self._area is None:\r\n",
    "            self._area = 0.5 * self._edges * self._edge_length * self._apothem\r\n",
    "        return self._area\r\n",
    "\r\n",
    "    @property\r\n",
    "    def perimeter(self):\r\n",
    "        if self._edge_length is None:\r\n",
    "            _ = self.edge_length\r\n",
    "        if self._perimeter is None:\r\n",
    "            self._perimeter = self._edges * self._edge_length\r\n",
    "        return self._perimeter\r\n",
    "\r\n",
    "    def __repr__(self):\r\n",
    "        return f\"A regular polygon with {vars(self)}\"\r\n",
    "\r\n",
    "    def __eq__(self, other):\r\n",
    "        return (self.vertices == other.vertices) and (self.radius == other.radius)\r\n",
    "\r\n",
    "    def __gt__(self, other):\r\n",
    "        return self.vertices > other.vertices\r\n"
   ],
   "outputs": [],
   "metadata": {
    "tags": [],
    "cell_id": "00000-fde50768-69fa-47b4-ae4b-9fe4ce8c470d",
    "deepnote_to_be_reexecuted": false,
    "source_hash": "471a5508",
    "execution_start": 1627667411960,
    "execution_millis": 27,
    "deepnote_cell_type": "code"
   }
  },
  {
   "cell_type": "code",
   "execution_count": 117,
   "source": [
    "class PolygonSequence:\r\n",
    "    def __init__(self, max_edge, radius):\r\n",
    "        self.max_edge = max_edge\r\n",
    "        self.radius = radius\r\n",
    "        self.init_parameters()\r\n",
    "\r\n",
    "    def init_parameters(self):\r\n",
    "        _ = self.max_edge\r\n",
    "        _ = self.radius\r\n",
    "        _ = self.max_efficiency\r\n",
    "\r\n",
    "    @property\r\n",
    "    def max_edge(self):\r\n",
    "        return self._max_edge\r\n",
    "\r\n",
    "    @max_edge.setter\r\n",
    "    def max_edge(self, new_max_edge):\r\n",
    "        if not isinstance(new_max_edge, (int, float)):\r\n",
    "            raise ValueError\r\n",
    "        if new_max_edge < 3:\r\n",
    "            raise ValueError\r\n",
    "        self._max_efficiency = None\r\n",
    "        self._max_edge = new_max_edge\r\n",
    "        \r\n",
    "\r\n",
    "    @property\r\n",
    "    def radius(self):\r\n",
    "\r\n",
    "        return self._radius\r\n",
    "\r\n",
    "    @radius.setter\r\n",
    "    def radius(self, rad):\r\n",
    "        if not isinstance(rad, (int, float)):\r\n",
    "            raise ValueError\r\n",
    "        if rad < 0:\r\n",
    "            raise ValueError\r\n",
    "\r\n",
    "    \r\n",
    "        self._max_efficiency = None\r\n",
    "        self._radius = rad\r\n",
    "        \r\n",
    "\r\n",
    "    def __repr__(self):\r\n",
    "        return f\"Polygon Sequence class with max_edge = {self.max_edge} and common radius = {self.radius}\"\r\n",
    "\r\n",
    "\r\n",
    "    @property\r\n",
    "    def max_efficiency(self):\r\n",
    "        if self._max_efficiency is None:\r\n",
    "            _polygons = sorted(\r\n",
    "            self, key=lambda poly: poly.area / poly.perimeter, reverse=True\r\n",
    "        )\r\n",
    "            self._max_efficiency = _polygons[0]\r\n",
    "        return self._max_efficiency\r\n",
    "\r\n",
    "    def __iter__(self):\r\n",
    "        return self.PolygonIter(self)\r\n",
    "\r\n",
    "    class PolygonIter:\r\n",
    "        def __init__(self, polygon_object):\r\n",
    "            self._polygon_object = polygon_object\r\n",
    "            self._idx = 3\r\n",
    "\r\n",
    "        def __iter__(self):\r\n",
    "            return self\r\n",
    "\r\n",
    "        def __next__(self):\r\n",
    "            if self._idx > self._polygon_object.max_edge:\r\n",
    "                raise StopIteration\r\n",
    "            else:\r\n",
    "                poly = Polygon(self._idx, self._polygon_object.radius)\r\n",
    "                self._idx += 1\r\n",
    "                return poly\r\n",
    "\r\n"
   ],
   "outputs": [],
   "metadata": {
    "tags": [],
    "cell_id": "00001-443596b3-bbfd-4445-84ed-93dabd76d9be",
    "deepnote_to_be_reexecuted": false,
    "source_hash": "8247dc84",
    "execution_start": 1627669364237,
    "execution_millis": 0,
    "deepnote_cell_type": "code"
   }
  },
  {
   "cell_type": "code",
   "execution_count": 130,
   "source": [
    "import math\r\n",
    "def test_polygon():\r\n",
    "    abs_tol = 0.001\r\n",
    "    rel_tol = 0.001\r\n",
    "    \r\n",
    "    try:\r\n",
    "        p = Polygon(2, 10)\r\n",
    "        assert False, ('Creating a Polygon with 2 sides: '\r\n",
    "                       ' Exception expected, not received')\r\n",
    "    except ValueError:\r\n",
    "        pass\r\n",
    "                       \r\n",
    "    n = 3\r\n",
    "    R = 1\r\n",
    "    p = Polygon(n, R)\r\n",
    "    assert p.vertices == n, (f'actual: {p.vertices},'\r\n",
    "                                   f' expected: {n}')\r\n",
    "    assert p.edges == n, f'actual: {p.count_edges}, expected: {n}'\r\n",
    "    assert p.radius == R, f'actual: {p.circumradius}, expected: {n}'\r\n",
    "    assert p.interior_angle == 60, (f'actual: {p.interior_angle},'\r\n",
    "                                    ' expected: 60')\r\n",
    "    n = 4\r\n",
    "    R = 1\r\n",
    "    p = Polygon(n, R)\r\n",
    "    assert p.interior_angle == 90, (f'actual: {p.interior_angle}, '\r\n",
    "                                    ' expected: 90')\r\n",
    "\r\n",
    "    \r\n",
    "    assert math.isclose(p.edge_length, math.sqrt(2),\r\n",
    "                       rel_tol=rel_tol,\r\n",
    "                       abs_tol=abs_tol), (f'actual: {p.edge_length},'\r\n",
    "                                          f' expected: {math.sqrt(2)}')\r\n",
    "    \r\n",
    "    assert math.isclose(p.perimeter, 4 * math.sqrt(2),\r\n",
    "                       rel_tol=rel_tol,\r\n",
    "                       abs_tol=abs_tol), (f'actual: {p.perimeter},'\r\n",
    "                                          f' expected: {4 * math.sqrt(2)}')\r\n",
    "    \r\n",
    "    assert math.isclose(p.apothem, 0.707,\r\n",
    "                       rel_tol=rel_tol,\r\n",
    "                       abs_tol=abs_tol), (f'actual: {p.perimeter},'\r\n",
    "                                          ' expected: 0.707')\r\n",
    "    assert math.isclose(p.area, 2, \r\n",
    "                    rel_tol=abs_tol, \r\n",
    "                    abs_tol=abs_tol), (f'actual: {p.area},'\r\n",
    "                                        ' expected: 2.0')\r\n",
    "    p = Polygon(6, 2)\r\n",
    "    assert math.isclose(p.edge_length, 2,\r\n",
    "                        rel_tol=rel_tol, abs_tol=abs_tol)\r\n",
    "    assert math.isclose(p.apothem, 1.73205,\r\n",
    "                        rel_tol=rel_tol, abs_tol=abs_tol)\r\n",
    "    assert math.isclose(p.area, 10.3923,\r\n",
    "                        rel_tol=rel_tol, abs_tol=abs_tol)\r\n",
    "    assert math.isclose(p.perimeter, 12,\r\n",
    "                        rel_tol=rel_tol, abs_tol=abs_tol)\r\n",
    "    assert math.isclose(p.interior_angle, 120,\r\n",
    "                        rel_tol=rel_tol, abs_tol=abs_tol)\r\n",
    "    \r\n",
    "    p = Polygon(12, 3)\r\n",
    "    assert math.isclose(p.edge_length, 1.55291,\r\n",
    "                        rel_tol=rel_tol, abs_tol=abs_tol)\r\n",
    "    assert math.isclose(p.apothem, 2.89778,\r\n",
    "                        rel_tol=rel_tol, abs_tol=abs_tol)\r\n",
    "    assert math.isclose(p.area, 27,\r\n",
    "                        rel_tol=rel_tol, abs_tol=abs_tol)\r\n",
    "    assert math.isclose(p.perimeter, 18.635,\r\n",
    "                        rel_tol=rel_tol, abs_tol=abs_tol)\r\n",
    "    assert math.isclose(p.interior_angle, 150,\r\n",
    "                        rel_tol=rel_tol, abs_tol=abs_tol)\r\n",
    "    \r\n",
    "    p1 = Polygon(3, 10)\r\n",
    "    p2 = Polygon(10, 10)\r\n",
    "    p3 = Polygon(15, 10)\r\n",
    "    p4 = Polygon(15, 100)\r\n",
    "    p5 = Polygon(15, 100)\r\n",
    "    \r\n",
    "    assert p2 > p1\r\n",
    "    assert p2 < p3\r\n",
    "    assert p3 != p4\r\n",
    "    assert p1 != p4\r\n",
    "    assert p4 == p5\r\n",
    "\r\n",
    "test_polygon()"
   ],
   "outputs": [],
   "metadata": {
    "tags": [],
    "cell_id": "00002-74bf79f9-201f-452e-aa49-801ef3f56895",
    "deepnote_to_be_reexecuted": false,
    "source_hash": "939e2af2",
    "execution_start": 1627669630433,
    "execution_millis": 8,
    "deepnote_cell_type": "code"
   }
  },
  {
   "cell_type": "code",
   "execution_count": 131,
   "source": [
    "sequences = PolygonSequence(25,3)\n",
    "for seq in sequences:\n",
    "    print(seq)"
   ],
   "outputs": [
    {
     "output_type": "stream",
     "name": "stdout",
     "text": [
      "A regular polygon with {'_edges': 3, '_vertices': 3, '_edge_length': 5.196152422706632, '_interior_angle': 60.0, '_apothem': 1.5000000000000004, '_area': 11.691342951089926, '_perimeter': 15.588457268119896, '_radius': 3}\n",
      "A regular polygon with {'_edges': 4, '_vertices': 4, '_edge_length': 4.242640687119285, '_interior_angle': 90.0, '_apothem': 2.121320343559643, '_area': 18.0, '_perimeter': 16.97056274847714, '_radius': 3}\n",
      "A regular polygon with {'_edges': 5, '_vertices': 5, '_edge_length': 3.526711513754839, '_interior_angle': 108.0, '_apothem': 2.4270509831248424, '_area': 21.398771616640957, '_perimeter': 17.633557568774194, '_radius': 3}\n",
      "A regular polygon with {'_edges': 6, '_vertices': 6, '_edge_length': 2.9999999999999996, '_interior_angle': 120.0, '_apothem': 2.598076211353316, '_area': 23.38268590217984, '_perimeter': 17.999999999999996, '_radius': 3}\n",
      "A regular polygon with {'_edges': 7, '_vertices': 7, '_edge_length': 2.603302434705349, '_interior_angle': 128.57142857142858, '_apothem': 2.7029066037072575, '_area': 24.627691697742943, '_perimeter': 18.223117042937442, '_radius': 3}\n",
      "A regular polygon with {'_edges': 8, '_vertices': 8, '_edge_length': 2.2961005941905386, '_interior_angle': 135.0, '_apothem': 2.77163859753386, '_area': 25.455844122715707, '_perimeter': 18.36880475352431, '_radius': 3}\n",
      "A regular polygon with {'_edges': 9, '_vertices': 9, '_edge_length': 2.0521208599540124, '_interior_angle': 140.0, '_apothem': 2.8190778623577253, '_area': 26.032898192304845, '_perimeter': 18.46908773958611, '_radius': 3}\n",
      "A regular polygon with {'_edges': 10, '_vertices': 10, '_edge_length': 1.8541019662496843, '_interior_angle': 144.0, '_apothem': 2.8531695488854605, '_area': 26.450336353161287, '_perimeter': 18.541019662496844, '_radius': 3}\n",
      "A regular polygon with {'_edges': 11, '_vertices': 11, '_edge_length': 1.690395341048578, '_interior_angle': 147.27272727272728, '_apothem': 2.878478920843492, '_area': 26.761720464052075, '_perimeter': 18.59434875153436, '_radius': 3}\n",
      "A regular polygon with {'_edges': 12, '_vertices': 12, '_edge_length': 1.5529142706151244, '_interior_angle': 150.0, '_apothem': 2.897777478867205, '_area': 27.0, '_perimeter': 18.634971247381493, '_radius': 3}\n",
      "A regular polygon with {'_edges': 13, '_vertices': 13, '_edge_length': 1.4358939857253463, '_interior_angle': 152.30769230769232, '_apothem': 2.912825452278156, '_area': 27.186305564560453, '_perimeter': 18.6666218144295, '_radius': 3}\n",
      "A regular polygon with {'_edges': 14, '_vertices': 14, '_edge_length': 1.3351256037378865, '_interior_angle': 154.28571428571428, '_apothem': 2.924783736545471, '_area': 27.334675564406165, '_perimeter': 18.69175845233041, '_radius': 3}\n",
      "A regular polygon with {'_edges': 15, '_vertices': 15, '_edge_length': 1.247470144906556, '_interior_angle': 156.0, '_apothem': 2.934442802201417, '_area': 27.454723407616513, '_perimeter': 18.712052173598337, '_radius': 3}\n",
      "A regular polygon with {'_edges': 16, '_vertices': 16, '_edge_length': 1.1705419320967696, '_interior_angle': 157.5, '_apothem': 2.9423558412096913, '_area': 27.553207130286463, '_perimeter': 18.728670913548314, '_radius': 3}\n",
      "A regular polygon with {'_edges': 17, '_vertices': 17, '_edge_length': 1.102497106899422, '_interior_angle': 158.8235294117647, '_apothem': 2.9489192990517052, '_area': 27.6349874633172, '_perimeter': 18.742450817290173, '_radius': 3}\n",
      "A regular polygon with {'_edges': 18, '_vertices': 18, '_edge_length': 1.041889066001582, '_interior_angle': 160.0, '_apothem': 2.954423259036624, '_area': 27.703631609379165, '_perimeter': 18.754003188028477, '_radius': 3}\n",
      "A regular polygon with {'_edges': 19, '_vertices': 19, '_edge_length': 0.9875675416844034, '_interior_angle': 161.05263157894737, '_apothem': 2.959083910208167, '_area': 27.761804617000443, '_perimeter': 18.763783292003666, '_radius': 3}\n",
      "A regular polygon with {'_edges': 20, '_vertices': 20, '_edge_length': 0.9386067902413853, '_interior_angle': 162.0, '_apothem': 2.9630650217854133, '_area': 27.811529493745272, '_perimeter': 18.772135804827705, '_radius': 3}\n",
      "A regular polygon with {'_edges': 21, '_vertices': 21, '_edge_length': 0.8942535970570467, '_interior_angle': 162.85714285714286, '_apothem': 2.9664924786753857, '_area': 27.85436398183045, '_perimeter': 18.77932553819798, '_radius': 3}\n",
      "A regular polygon with {'_edges': 22, '_vertices': 22, '_edge_length': 0.8538890296397108, '_interior_angle': 163.63636363636363, '_apothem': 2.969464325642798, '_area': 27.89152312730154, '_perimeter': 18.78555865207364, '_radius': 3}\n",
      "A regular polygon with {'_edges': 23, '_vertices': 23, '_edge_length': 0.8169998945774796, '_interior_angle': 164.34782608695653, '_apothem': 2.9720578381089924, '_area': 27.923965814752016, '_perimeter': 18.79099757528203, '_radius': 3}\n",
      "A regular polygon with {'_edges': 24, '_vertices': 24, '_edge_length': 0.7831571533203094, '_interior_angle': 165.0, '_apothem': 2.974334584121431, '_area': 27.952456871072236, '_perimeter': 18.795771679687427, '_radius': 3}\n",
      "A regular polygon with {'_edges': 25, '_vertices': 25, '_edge_length': 0.7519994013858255, '_interior_angle': 165.6, '_apothem': 2.9763441039434335, '_area': 27.977612306046165, '_perimeter': 18.799985034645637, '_radius': 3}\n"
     ]
    }
   ],
   "metadata": {
    "tags": [],
    "cell_id": "00002-8f63236e-0e6d-45dd-8ff2-bea955a05458",
    "deepnote_to_be_reexecuted": false,
    "source_hash": "fbc21228",
    "execution_start": 1627669673490,
    "execution_millis": 45,
    "deepnote_cell_type": "code"
   }
  },
  {
   "cell_type": "code",
   "execution_count": 132,
   "source": [
    "'__init__' in dir(sequences), '__next__' in dir(sequences)\n"
   ],
   "outputs": [
    {
     "output_type": "execute_result",
     "data": {
      "text/plain": [
       "(True, False)"
      ]
     },
     "metadata": {},
     "execution_count": 132
    }
   ],
   "metadata": {
    "tags": [],
    "cell_id": "00004-43fd39be-a2f4-4009-b349-5c6e034db951",
    "deepnote_to_be_reexecuted": false,
    "source_hash": "7d5cef29",
    "execution_start": 1627669676369,
    "execution_millis": 10,
    "deepnote_cell_type": "code"
   }
  },
  {
   "cell_type": "markdown",
   "source": [
    "Since `sequences` is an `Iterable`, `iter(sequence)` != `sequence`. "
   ],
   "metadata": {
    "tags": [],
    "cell_id": "00005-c52de28b-4ad9-41a8-afa7-44a0b0207a82",
    "deepnote_cell_type": "markdown"
   }
  },
  {
   "cell_type": "code",
   "execution_count": 133,
   "source": [
    "iter(sequences) is sequences"
   ],
   "outputs": [
    {
     "output_type": "execute_result",
     "data": {
      "text/plain": [
       "False"
      ]
     },
     "metadata": {},
     "execution_count": 133
    }
   ],
   "metadata": {
    "tags": [],
    "cell_id": "00005-10317b00-47f1-4db1-805b-fb3ad6cee097",
    "deepnote_to_be_reexecuted": false,
    "source_hash": "340414ea",
    "execution_start": 1627669695594,
    "execution_millis": 11,
    "deepnote_cell_type": "code"
   }
  },
  {
   "cell_type": "markdown",
   "source": [
    "`iter(Iterable)` returns an iterator, the `iter` of which returns `self`. "
   ],
   "metadata": {
    "tags": [],
    "cell_id": "00007-3085f12d-1855-4de0-9b5c-86c663b7eaa5",
    "deepnote_cell_type": "markdown"
   }
  },
  {
   "cell_type": "code",
   "execution_count": 135,
   "source": [
    "seq_iter = iter(sequences)\n",
    "iter(seq_iter) is seq_iter"
   ],
   "outputs": [
    {
     "output_type": "execute_result",
     "data": {
      "text/plain": [
       "True"
      ]
     },
     "metadata": {},
     "execution_count": 135
    }
   ],
   "metadata": {
    "tags": [],
    "cell_id": "00006-18f6f997-960e-4da3-acfd-f676a6bef333",
    "deepnote_to_be_reexecuted": false,
    "source_hash": "9b8d17f1",
    "execution_start": 1627669735281,
    "execution_millis": 13,
    "deepnote_cell_type": "code"
   }
  },
  {
   "cell_type": "code",
   "execution_count": 136,
   "source": [
    "sequences.max_efficiency"
   ],
   "outputs": [
    {
     "output_type": "execute_result",
     "data": {
      "text/plain": [
       "A regular polygon with {'_edges': 25, '_vertices': 25, '_edge_length': 0.7519994013858255, '_interior_angle': 165.6, '_apothem': 2.9763441039434335, '_area': 27.977612306046165, '_perimeter': 18.799985034645637, '_radius': 3}"
      ]
     },
     "metadata": {},
     "execution_count": 136
    }
   ],
   "metadata": {
    "tags": [],
    "cell_id": "00007-c55e0309-0a49-49e2-9be6-7acd544d2998",
    "deepnote_to_be_reexecuted": false,
    "source_hash": "30e1ec52",
    "execution_start": 1627669874444,
    "execution_millis": 22,
    "deepnote_cell_type": "code"
   }
  },
  {
   "cell_type": "markdown",
   "source": [
    "Changing the `radius`/`max_edge` recomputes the `max_efficiency` property"
   ],
   "metadata": {
    "tags": [],
    "cell_id": "00010-3438083f-7b36-4466-b4c2-9884d687b048",
    "deepnote_cell_type": "markdown"
   }
  },
  {
   "cell_type": "code",
   "execution_count": 137,
   "source": [
    "sequences.max_edge = 8\n",
    "sequences.max_efficiency"
   ],
   "outputs": [
    {
     "output_type": "execute_result",
     "data": {
      "text/plain": [
       "A regular polygon with {'_edges': 8, '_vertices': 8, '_edge_length': 2.2961005941905386, '_interior_angle': 135.0, '_apothem': 2.77163859753386, '_area': 25.455844122715707, '_perimeter': 18.36880475352431, '_radius': 3}"
      ]
     },
     "metadata": {},
     "execution_count": 137
    }
   ],
   "metadata": {
    "tags": [],
    "cell_id": "00007-74db1b04-a9e2-47a4-a11f-be70641e9a04",
    "deepnote_to_be_reexecuted": false,
    "source_hash": "c3a63811",
    "execution_start": 1627669959203,
    "execution_millis": 9,
    "deepnote_cell_type": "code"
   }
  },
  {
   "cell_type": "markdown",
   "source": [
    "<a style='text-decoration:none;line-height:16px;display:flex;color:#5B5B62;padding:10px;justify-content:end;' href='https://deepnote.com?utm_source=created-in-deepnote-cell&projectId=bfdd3091-7b77-43f9-be92-4fdeb5396c2b' target=\"_blank\">\n",
    "<img alt='Created in deepnote.com' style='display:inline;max-height:16px;margin:0px;margin-right:7.5px;' src='data:image/svg+xml;base64,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' > </img>\n",
    "Created in <span style='font-weight:600;margin-left:4px;'>Deepnote</span></a>"
   ],
   "metadata": {
    "tags": [],
    "created_in_deepnote_cell": true,
    "deepnote_cell_type": "markdown"
   }
  }
 ],
 "nbformat": 4,
 "nbformat_minor": 2,
 "metadata": {
  "orig_nbformat": 2,
  "deepnote": {
   "is_reactive": false
  },
  "deepnote_notebook_id": "d49224bb-8389-48f0-aaea-7aa37eef9aac",
  "deepnote_execution_queue": [],
  "language_info": {
   "name": "python"
  }
 }
}